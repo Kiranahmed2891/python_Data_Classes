{
  "nbformat": 4,
  "nbformat_minor": 0,
  "metadata": {
    "colab": {
      "provenance": [],
      "authorship_tag": "ABX9TyOZqSqGiKRYv/81lUatbFUB",
      "include_colab_link": true
    },
    "kernelspec": {
      "name": "python3",
      "display_name": "Python 3"
    },
    "language_info": {
      "name": "python"
    }
  },
  "cells": [
    {
      "cell_type": "markdown",
      "metadata": {
        "id": "view-in-github",
        "colab_type": "text"
      },
      "source": [
        "<a href=\"https://colab.research.google.com/github/Kiranahmed2891/python_Data_Classes/blob/main/python_syntax_data_classes.ipynb\" target=\"_parent\"><img src=\"https://colab.research.google.com/assets/colab-badge.svg\" alt=\"Open In Colab\"/></a>"
      ]
    },
    {
      "cell_type": "code",
      "execution_count": 1,
      "metadata": {
        "id": "ehVqY8EObj3e"
      },
      "outputs": [],
      "source": [
        "from dataclasses import dataclass"
      ]
    },
    {
      "cell_type": "code",
      "source": [
        "from typing import TypeVar, ClassVar\n",
        "@dataclass\n",
        "class American:\n",
        "  name:str\n",
        "  age:int\n",
        "  weight:float\n",
        "  language: ClassVar[str] = \"English\"\n",
        "\n",
        "\n",
        "  def speak(self):\n",
        "    return f\"{self.name} is speaking...{American.language}\"\n",
        "\n",
        "  def eats(self):\n",
        "    return f\"{self.name} is eating...\"\n",
        "  @staticmethod\n",
        "\n",
        "  def country_language():\n",
        "    return American.language\n",
        "\n",
        "\n"
      ],
      "metadata": {
        "id": "3pPS5ZF0cloD"
      },
      "execution_count": 2,
      "outputs": []
    },
    {
      "cell_type": "code",
      "source": [
        "jhon = American(name=\"KiranAhmed\",age=30,weight=55)\n",
        "\n",
        "print(jhon)\n",
        "print(jhon.speak())\n",
        "print(jhon.eats())\n"
      ],
      "metadata": {
        "colab": {
          "base_uri": "https://localhost:8080/"
        },
        "id": "0meyw5Owggwa",
        "outputId": "c5994a4a-9f8b-46fd-8156-ccfebba871d7"
      },
      "execution_count": 3,
      "outputs": [
        {
          "output_type": "stream",
          "name": "stdout",
          "text": [
            "American(name='KiranAhmed', age=30, weight=55)\n",
            "KiranAhmed is speaking...English\n",
            "KiranAhmed is eating...\n"
          ]
        }
      ]
    },
    {
      "cell_type": "code",
      "source": [
        "print(American.country_language())\n"
      ],
      "metadata": {
        "colab": {
          "base_uri": "https://localhost:8080/"
        },
        "id": "EyqIOG6elxgL",
        "outputId": "e2be20c1-658b-4b6c-f1a1-4e6973a90835"
      },
      "execution_count": 8,
      "outputs": [
        {
          "output_type": "stream",
          "name": "stdout",
          "text": [
            "English\n"
          ]
        }
      ]
    },
    {
      "cell_type": "code",
      "source": [
        "print(jhon)\n",
        "print(jhon.name)\n",
        "print(jhon.age)\n",
        "print(jhon.weight)\n",
        "print(American.language)"
      ],
      "metadata": {
        "colab": {
          "base_uri": "https://localhost:8080/"
        },
        "id": "kqj8eNRXn0tD",
        "outputId": "7009ab85-194c-4ccf-8d58-ea882cf10ad2"
      },
      "execution_count": 9,
      "outputs": [
        {
          "output_type": "stream",
          "name": "stdout",
          "text": [
            "American(name='KiranAhmed', age=30, weight=55)\n",
            "KiranAhmed\n",
            "30\n",
            "55\n",
            "English\n"
          ]
        }
      ]
    }
  ]
}